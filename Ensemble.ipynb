{
  "cells": [
    {
      "cell_type": "markdown",
      "metadata": {
        "id": "QcJK3kXl--c3"
      },
      "source": [
        "# CS 3540/CS 5540/CMPE 5990/CSYS 5990\n",
        "### HW6 (Lasso vs Ridge, Data Batching, Gadient-Optimizers)\n",
        "\n",
        "* Note 1: **Please print (or plot, when asked) all solutions.**\n",
        "* Note 2: **If asked to explain something, record your answer as a docstring, then print it.**\n",
        "\n",
        "Please submit all assigments as <b>firstname_lastname_HWX.ipynb (where X is the HW number).</b>"
      ]
    },
    {
      "cell_type": "markdown",
      "metadata": {
        "id": "zrnGRZ0irhyo"
      },
      "source": [
        "---"
      ]
    },
    {
      "cell_type": "code",
      "execution_count": 11,
      "metadata": {
        "id": "TgCfwLgzhtC_"
      },
      "outputs": [],
      "source": [
        "import numpy as np\n",
        "import matplotlib.pyplot as plt\n",
        "import pandas as pd\n",
        "\n",
        "from sklearn import datasets\n",
        "import tensorflow as tf"
      ]
    },
    {
      "cell_type": "markdown",
      "metadata": {
        "id": "4nrNhDMGrhyo"
      },
      "source": [
        "### Question 1 (Lasso and Ridge Regression)\n",
        "\n",
        "Here, we solve linear regression, but we want to **regularize** with ridge regression, lasso, and elastic net."
      ]
    },
    {
      "cell_type": "code",
      "execution_count": 12,
      "metadata": {
        "id": "r0CvcuIGrhyp"
      },
      "outputs": [],
      "source": [
        "from sklearn import linear_model\n",
        "from sklearn.datasets import load_diabetes\n",
        "from sklearn.model_selection import train_test_split\n",
        "\n",
        "# load and splid the data\n",
        "X, Y = load_diabetes(return_X_y=True)\n",
        "training_ind = round(0.8*len(Y))\n",
        "\n",
        "Xtrain = X[0:training_ind,:]\n",
        "Ytrain = Y[0:training_ind]\n",
        "\n",
        "Xtest = X[training_ind:,:]\n",
        "Ytest = Y[training_ind:]\n"
      ]
    },
    {
      "cell_type": "markdown",
      "metadata": {
        "id": "CX7UfnrUrhyp"
      },
      "source": [
        "**Tasks:**\n",
        "\n",
        "1. Use ``linear_model.Ridge`` for $\\alpha$ = 0.001, 0.01, 0.1, 1, and 10\n",
        "    * Compute the test data loss for each $\\alpha$, and plot them\n",
        "    * use ``loss = sum((Ytest - model.predict(Xtest))**2)``\n",
        "2. Use ``linear_model.Lasso`` for $\\alpha$ = 0.001, 0.01, 0.1, 1, and 10\n",
        "    * Compute the test data loss for each $\\alpha$, and plot them\n",
        "    * Also, comment on how many model coefficients are 0 for each $\\alpha$\n",
        "3. Use ``linear_model.ElasticNet`` for $\\alpha$ = 1.0 and ``l1_ratio``= 0.1, 0.5, and 0.9\n",
        "    * Compute the test data loss for each $\\alpha$, and plot them\n"
      ]
    },
    {
      "cell_type": "code",
      "execution_count": 13,
      "metadata": {
        "id": "kz6R4CGTrhyp"
      },
      "outputs": [],
      "source": [
        "# your code here"
      ]
    },
    {
      "cell_type": "markdown",
      "metadata": {
        "id": "PbKLZR77rhyq"
      },
      "source": [
        "### Question 2 (Data Batching)\n",
        "\n",
        "As in class, we are going to compare gradient descent routines when data is **batched** in different ways: (1) full batch, (2) mini batch, and (3) stochastic gradient descent. We will also experiment with step size decay. We will deal with normalized data. **Therefore, there is no need to include a bias terms in the problem.**"
      ]
    },
    {
      "cell_type": "code",
      "execution_count": 15,
      "metadata": {
        "colab": {
          "base_uri": "https://localhost:8080/",
          "height": 452
        },
        "id": "kHvFue3wrhyq",
        "outputId": "4f789974-7c2a-4fb7-88a7-42a0412aebe0"
      },
      "outputs": [
        {
          "data": {
            "text/plain": [
              "<matplotlib.collections.PathCollection at 0x78b122cd96d0>"
            ]
          },
          "execution_count": 15,
          "metadata": {},
          "output_type": "execute_result"
        },
        {
          "data": {
            "image/png": "[encoded data removed]",
            "text/plain": [
              "<Figure size 640x480 with 1 Axes>"
            ]
          },
          "metadata": {},
          "output_type": "display_data"
        }
      ],
      "source": [
        "from numpy import genfromtxt\n",
        "wine_data  = genfromtxt('./winequality-white.csv', delimiter=';', skip_header=1)\n",
        "\n",
        "# parse the data\n",
        "X = wine_data[:,0:11]\n",
        "y = wine_data[:,11]\n",
        "y = np.reshape(y, (len(y),1))\n",
        "\n",
        "# example code -- no normalization or step decay! full batch\n",
        "iterations = 50000\n",
        "w = np.zeros((11,1))\n",
        "w1 = np.zeros((iterations,1))\n",
        "w2 = np.zeros((iterations,1))\n",
        "for ii in range(0,iterations):\n",
        "    grad_w = 2*X.T@(X@w - y)\n",
        "    w = w - 0.000000001*grad_w # eta, why so (serious, jk) small?\n",
        "    w1[ii] = w[0]\n",
        "    w2[ii] = w[1]\n",
        "\n",
        "plt.scatter(w1,w2, linestyle='-')\n"
      ]
    },
    {
      "cell_type": "markdown",
      "metadata": {
        "id": "aAW77kF2rhyq"
      },
      "source": [
        "**Tasks:**\n",
        "\n",
        "*Remember to use the Mean Squared Error (MSE) for loss for this question!*\n",
        "1. Normalize the data! That is, subtract the mean from all input and output features, and divide each feature by its standard deviation. When you do this, there is no need to include a bias term in the least squares formulation.\n",
        "2. Use gradient descent with **full batch**\n",
        "    * find a good value for $\\eta$\n",
        "    * experiment with step decay, and find a good decay rate (0 < decay < 1)\n",
        "    * plot the loss function over iterations\n",
        "\n",
        "3. Use gradient descent with **mini-batch** (cycle over 12 batches)\n",
        "    * experiment with step decay, and find a good decay rate (0 < decay < 1)\n",
        "    * plot the loss function\n",
        "\n",
        "4. Use gradient descent with **stochastic gradient descent** (randomly)\n",
        "    * experiment with step decay, and find a good decay rate (0 < decay < 1)\n",
        "    * plot the loss function\n"
      ]
    },
    {
      "cell_type": "code",
      "execution_count": 16,
      "metadata": {
        "id": "FkaO3z9Irhyq"
      },
      "outputs": [],
      "source": [
        "# your code here"
      ]
    },
    {
      "cell_type": "markdown",
      "metadata": {
        "id": "j3RV033qrhyq"
      },
      "source": [
        "### Question 3 (Gradient Descent Routines)\n",
        "\n",
        "The goal here is to compare vanilla gradient descent with 5 other alternatives learned in class. We will use the mean squared error loss function, and we will deal with normalized data. **Therefore, there is no need to include a bias terms in the problem.**\n",
        "\n",
        "\\begin{align}\n",
        "\\min_{w} \\;\\frac{1}{n}\\,\\bigl(y - Xw\\bigr)^\\top \\bigl(y - Xw\\bigr)\n",
        "\\end{align}\n",
        "\n",
        "\n",
        "\n"
      ]
    },
    {
      "cell_type": "code",
      "execution_count": 21,
      "metadata": {
        "id": "IqtC6l-Grhyq"
      },
      "outputs": [],
      "source": [
        "from numpy import genfromtxt\n",
        "wine_data  = genfromtxt('./winequality-white.csv', delimiter=';', skip_header=1)\n",
        "\n",
        "# parse the data\n",
        "X = wine_data[:,0:11]\n",
        "y = wine_data[:,11]\n",
        "y = np.reshape(y, (len(y),1))"
      ]
    },
    {
      "cell_type": "markdown",
      "metadata": {
        "id": "Gw9RAuDVrhyq"
      },
      "source": [
        "Using a reasonable step size and decay rate, test the following optimziation algorithms. Please code them up from scratch! Tinker with them until the converge.\n",
        "\n",
        "**Tasks:**\n",
        "1. Again, normalize the data! That is, subtract the mean from all input and output features, and divide each feature by its standard deviation. When you do this, there is no need to include a bias term in the least squares formulation.\n",
        "2. Code and test Momentum Gradient Descent. Plot the loss function over iterations.\n",
        "3. Code and test NAG. Plot the loss function over iterations.\n",
        "4. Code and test AdaGrad. Plot the loss function over iterations.\n",
        "5. Code and test RMSProp. Plot the loss function over iterations.\n",
        "6. Code and test Adam. Plot the loss function over iterations."
      ]
    },
    {
      "cell_type": "code",
      "execution_count": 22,
      "metadata": {
        "id": "fG2OwhIDFsm8"
      },
      "outputs": [],
      "source": [
        "# your code here"
      ]
    }
  ],
  "metadata": {
    "colab": {
      "provenance": []
    },
    "kernelspec": {
      "display_name": "Python ml_class",
      "language": "python",
      "name": "ml_class"
    },
    "language_info": {
      "codemirror_mode": {
        "name": "ipython",
        "version": 3
      },
      "file_extension": ".py",
      "mimetype": "text/x-python",
      "name": "python",
      "nbconvert_exporter": "python",
      "pygments_lexer": "ipython3",
      "version": "3.11.11"
    }
  },
  "nbformat": 4,
  "nbformat_minor": 0
}
